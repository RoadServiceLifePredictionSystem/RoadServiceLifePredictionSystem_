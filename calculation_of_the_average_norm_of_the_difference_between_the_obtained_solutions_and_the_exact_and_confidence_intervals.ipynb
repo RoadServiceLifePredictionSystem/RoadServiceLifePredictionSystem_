{
 "cells": [
  {
   "cell_type": "code",
   "execution_count": 22,
   "id": "86d85e7a",
   "metadata": {},
   "outputs": [],
   "source": [
    "from getting_accurate_solutions import *\n",
    "from random import normalvariate as random_normalvariate\n",
    "from gradient_descent import batch_gradient_descent, mini_batch_gradient_descent\n",
    "from auxiliary_functions_and_classes import PartialSum, partial_sum_function, average_norm_of_the_difference_between_solutions_and_confidence_intervals\n",
    "from CMA import ff, fmin\n",
    "\n",
    "\n",
    "# Вычисление средней нормы разницы между полученным решением и точным и доверительных интервалов на разных алгоритмах и плохобусловленных матрицах\n",
    "# разных размерностей(N = 6, 10, 15)\n",
    "sigma = 0.5\n",
    "ftarget = 1e-6"
   ]
  },
  {
   "cell_type": "code",
   "execution_count": 23,
   "id": "6c9dd43f",
   "metadata": {},
   "outputs": [
    {
     "name": "stdout",
     "output_type": "stream",
     "text": [
      "Средняя норма разницы между полученным решением и точным по результатам 10 испытаний = 0.010705656503851668\n",
      "доверительный интервал = (0.007434257760916078, 0.013977055246787258)\n"
     ]
    }
   ],
   "source": [
    "#Вычисление средней нормы разницы между решениями и доверительных интервалов для N = 6 \n",
    "#____________(CMA - нормальное распределение)_______\n",
    "\n",
    "N = 6\n",
    "x_0 = [random_normalvariate(0, 5.12/3) for i in range(N)]\n",
    "data1 = PartialSum(func_partial_sum=partial_sum_function, randn=random_normalvariate, N=1, list_args=(0, 1))\n",
    "\n",
    "av_norm, x_beg, x_end = average_norm_of_the_difference_between_solutions_and_confidence_intervals(10, the_exact_solution_6,\n",
    "                                                                                    fmin, ff.f_ploho_obuslovlennaya_matrica_6, \n",
    "                                                                                    x_0, sigma, exact_solution=the_exact_solution_6,\n",
    "                                                                                    randn=data1, ftarget=ftarget, verb_disp=0)\n",
    "print(f'Средняя норма разницы между полученным решением и точным по результатам 10 испытаний = {av_norm}')\n",
    "print(f'доверительный интервал = ({x_beg}, {x_end})')"
   ]
  },
  {
   "cell_type": "code",
   "execution_count": 24,
   "id": "4bd57862",
   "metadata": {},
   "outputs": [
    {
     "name": "stdout",
     "output_type": "stream",
     "text": [
      "Средняя норма разницы между полученным решением и точным по результатам 10 испытаний = 0.01231479789415412\n",
      "доверительный интервал = (0.008579077700181565, 0.016050518088126676)\n"
     ]
    }
   ],
   "source": [
    "#Вычисление средней нормы разницы между решениями и доверительных интервалов для N = 6 \n",
    "#____________(CMA - частичная сумма равнораспредел векторов)_______\n",
    "\n",
    "N = 6\n",
    "N1=3\n",
    "\n",
    "data2 = PartialSum(func_partial_sum=partial_sum_function, randn=np.random.uniform, N=N1, list_args=(-3, 3))\n",
    "x0_uniform = [partial_sum_function(-5.12/3, 5.12/3, N=N1, randn=np.random.uniform) for i in range(N)]\n",
    "\n",
    "\n",
    "av_norm, x_beg, x_end = average_norm_of_the_difference_between_solutions_and_confidence_intervals(10, the_exact_solution_6,\n",
    "                                                                                    fmin, ff.f_ploho_obuslovlennaya_matrica_6, \n",
    "                                                                                    x0_uniform, sigma, exact_solution=the_exact_solution_6,\n",
    "                                                                                    randn=data2, ftarget=ftarget, verb_disp=0)\n",
    "print(f'Средняя норма разницы между полученным решением и точным по результатам 10 испытаний = {av_norm}')\n",
    "print(f'доверительный интервал = ({x_beg}, {x_end})')"
   ]
  },
  {
   "cell_type": "code",
   "execution_count": 25,
   "id": "cfe1a0e3",
   "metadata": {},
   "outputs": [
    {
     "name": "stdout",
     "output_type": "stream",
     "text": [
      "Средняя норма разницы между полученным решением и точным по результатам 10 испытаний = 0.025109731443489637\n",
      "доверительный интервал = (0.015920402592911637, 0.03429906029406764)\n"
     ]
    }
   ],
   "source": [
    "#__Вычисление средней нормы разницы между решениями и доверительных интервалов для N = 6 (пакетный град спуск)__\n",
    "\n",
    "av_norm, x_beg, x_end = average_norm_of_the_difference_between_solutions_and_confidence_intervals(10, \n",
    "                                                                                                  the_exact_solution_6,\n",
    "                                                                                                  batch_gradient_descent, \n",
    "                                                                                                  A_6, B_6, n_iterations=100000)\n",
    "print(f'Средняя норма разницы между полученным решением и точным по результатам 10 испытаний = {av_norm}')\n",
    "print(f'доверительный интервал = ({x_beg}, {x_end})')"
   ]
  },
  {
   "cell_type": "code",
   "execution_count": 26,
   "id": "c507d9d2",
   "metadata": {},
   "outputs": [
    {
     "name": "stdout",
     "output_type": "stream",
     "text": [
      "Средняя норма разницы между полученным решением и точным по результатам 10 испытаний = 2.7462243589184885\n",
      "доверительный интервал = (2.5176147839019785, 2.9748339339349985)\n"
     ]
    }
   ],
   "source": [
    "#__Вычисление средней нормы разницы между решениями и доверительных интервалов для N = 6 (минипакетный град спуск)__\n",
    "\n",
    "av_norm, x_beg, x_end = average_norm_of_the_difference_between_solutions_and_confidence_intervals(10, \n",
    "                                                                                                  the_exact_solution_6,\n",
    "                                                                                                  mini_batch_gradient_descent, \n",
    "                                                                                                  A_6, B_6, n_iterations=1000000)\n",
    "print(f'Средняя норма разницы между полученным решением и точным по результатам 10 испытаний = {av_norm}')\n",
    "print(f'доверительный интервал = ({x_beg}, {x_end})')"
   ]
  },
  {
   "cell_type": "code",
   "execution_count": 27,
   "id": "b98cf40c",
   "metadata": {},
   "outputs": [
    {
     "name": "stdout",
     "output_type": "stream",
     "text": [
      "Средняя норма разницы между полученным решением и точным по результатам 10 испытаний = 0.010176361824588233\n",
      "доверительный интервал = (0.008895042639121253, 0.011457681010055213)\n"
     ]
    }
   ],
   "source": [
    "# Вычисление средней нормы разницы между решениями и доверительных интервалов для N = 10\n",
    "#____________(CMA - нормальное распределение)_______\n",
    "\n",
    "N = 10\n",
    "\n",
    "x_0 = [random_normalvariate(0, 5.12/3) for i in range(N)]\n",
    "data1 = PartialSum(func_partial_sum=partial_sum_function, randn=random_normalvariate, N=1, list_args=(0, 1))\n",
    "\n",
    "av_norm, x_beg, x_end = average_norm_of_the_difference_between_solutions_and_confidence_intervals(10, the_exact_solution_10,\n",
    "                                                                                    fmin, ff.f_ploho_obuslovlennaya_matrica_10, \n",
    "                                                                                    x_0, sigma, exact_solution=the_exact_solution_10,\n",
    "                                                                                    randn=data1, ftarget=ftarget, verb_disp=0)\n",
    "print(f'Средняя норма разницы между полученным решением и точным по результатам 10 испытаний = {av_norm}')\n",
    "print(f'доверительный интервал = ({x_beg}, {x_end})')"
   ]
  },
  {
   "cell_type": "code",
   "execution_count": 28,
   "id": "b59d46b5",
   "metadata": {},
   "outputs": [
    {
     "name": "stdout",
     "output_type": "stream",
     "text": [
      "Средняя норма разницы между полученным решением и точным по результатам 10 испытаний = 0.010738334326411747\n",
      "доверительный интервал = (0.00906607455122397, 0.012410594101599524)\n"
     ]
    }
   ],
   "source": [
    "#Вычисление средней нормы разницы между решениями и доверительных интервалов для N = 10 \n",
    "#____________(CMA - частичная сумма равнораспредел векторов)_______\n",
    "\n",
    "N = 10\n",
    "N1=3\n",
    "\n",
    "data2 = PartialSum(func_partial_sum=partial_sum_function, randn=np.random.uniform, N=N1, list_args=(-3, 3))\n",
    "x0_uniform = [partial_sum_function(-5.12/3, 5.12/3, N=N1, randn=np.random.uniform) for i in range(N)]\n",
    "\n",
    "\n",
    "av_norm, x_beg, x_end = average_norm_of_the_difference_between_solutions_and_confidence_intervals(10, the_exact_solution_10,\n",
    "                                                                                    fmin, ff.f_ploho_obuslovlennaya_matrica_10, \n",
    "                                                                                    x0_uniform, sigma, exact_solution=the_exact_solution_10,\n",
    "                                                                                    randn=data2, ftarget=ftarget, verb_disp=0)\n",
    "print(f'Средняя норма разницы между полученным решением и точным по результатам 10 испытаний = {av_norm}')\n",
    "print(f'доверительный интервал = ({x_beg}, {x_end})')"
   ]
  },
  {
   "cell_type": "code",
   "execution_count": 29,
   "id": "7fb5da99",
   "metadata": {},
   "outputs": [
    {
     "name": "stdout",
     "output_type": "stream",
     "text": [
      "Средняя норма разницы между полученным решением и точным по результатам 10 испытаний = 0.01635763161459971\n",
      "доверительный интервал = (0.013056104999339608, 0.01965915822985981)\n"
     ]
    }
   ],
   "source": [
    "#__Вычисление средней нормы разницы между решениями и доверительных интервалов для N = 10 (пакетный град спуск)__\n",
    "\n",
    "av_norm, x_beg, x_end = average_norm_of_the_difference_between_solutions_and_confidence_intervals(10, \n",
    "                                                                                                  the_exact_solution_10,\n",
    "                                                                                                  batch_gradient_descent, \n",
    "                                                                                                  A_10, B_10, n_iterations=100000)\n",
    "print(f'Средняя норма разницы между полученным решением и точным по результатам 10 испытаний = {av_norm}')\n",
    "print(f'доверительный интервал = ({x_beg}, {x_end})')"
   ]
  },
  {
   "cell_type": "code",
   "execution_count": 30,
   "id": "20bcc260",
   "metadata": {},
   "outputs": [
    {
     "name": "stdout",
     "output_type": "stream",
     "text": [
      "Средняя норма разницы между полученным решением и точным по результатам 10 испытаний = 6.033712374549955\n",
      "доверительный интервал = (5.5787539852357, 6.48867076386421)\n"
     ]
    }
   ],
   "source": [
    "#__Вычисление средней нормы разницы между решениями и доверительных интервалов для N = 10 (минипакетный град спуск)__\n",
    "\n",
    "av_norm, x_beg, x_end = average_norm_of_the_difference_between_solutions_and_confidence_intervals(10, \n",
    "                                                                                                  the_exact_solution_10,\n",
    "                                                                                                  mini_batch_gradient_descent, \n",
    "                                                                                                  A_10, B_10, n_iterations=1000000)\n",
    "print(f'Средняя норма разницы между полученным решением и точным по результатам 10 испытаний = {av_norm}')\n",
    "print(f'доверительный интервал = ({x_beg}, {x_end})')"
   ]
  },
  {
   "cell_type": "code",
   "execution_count": 31,
   "id": "a1cf171b",
   "metadata": {},
   "outputs": [
    {
     "name": "stdout",
     "output_type": "stream",
     "text": [
      "Средняя норма разницы между полученным решением и точным по результатам 10 испытаний = 0.005393570345901507\n",
      "доверительный интервал = (0.0049280734491323605, 0.005859067242670654)\n"
     ]
    }
   ],
   "source": [
    "#Вычисление средней нормы разницы между решениями и доверительных интервалов для N = 15\n",
    "#____________(CMA - нормальное распределение)_______\n",
    "\n",
    "N = 15\n",
    "\n",
    "x_0 = [random_normalvariate(0, 5.12/3) for i in range(N)]\n",
    "data1 = PartialSum(func_partial_sum=partial_sum_function, randn=random_normalvariate, N=1, list_args=(0, 1))\n",
    "\n",
    "av_norm, x_beg, x_end = average_norm_of_the_difference_between_solutions_and_confidence_intervals(10, the_exact_solution_15,\n",
    "                                                                                    fmin, ff.f_ploho_obuslovlennaya_matrica_15, \n",
    "                                                                                    x_0, sigma, exact_solution=the_exact_solution_15,\n",
    "                                                                                    randn=data1, ftarget=ftarget, verb_disp=0)\n",
    "print(f'Средняя норма разницы между полученным решением и точным по результатам 10 испытаний = {av_norm}')\n",
    "print(f'доверительный интервал = ({x_beg}, {x_end})')"
   ]
  },
  {
   "cell_type": "code",
   "execution_count": 32,
   "id": "a24179c7",
   "metadata": {},
   "outputs": [
    {
     "name": "stdout",
     "output_type": "stream",
     "text": [
      "Средняя норма разницы между полученным решением и точным по результатам 10 испытаний = 0.0052128938038810396\n",
      "доверительный интервал = (0.004537946154156905, 0.005887841453605174)\n"
     ]
    }
   ],
   "source": [
    "#Вычисление средней нормы разницы между решениями и доверительных интервалов для N = 15 \n",
    "#____________(CMA - частичная сумма равнораспредел векторов)_______\n",
    "\n",
    "N = 15\n",
    "N1=3\n",
    "\n",
    "data2 = PartialSum(func_partial_sum=partial_sum_function, randn=np.random.uniform, N=N1, list_args=(-3, 3))\n",
    "x0_uniform = [partial_sum_function(-5.12/3, 5.12/3, N=N1, randn=np.random.uniform) for i in range(N)]\n",
    "\n",
    "\n",
    "av_norm, x_beg, x_end = average_norm_of_the_difference_between_solutions_and_confidence_intervals(10, the_exact_solution_15,\n",
    "                                                                                    fmin, ff.f_ploho_obuslovlennaya_matrica_15, \n",
    "                                                                                    x0_uniform, sigma, exact_solution=the_exact_solution_15,\n",
    "                                                                                    randn=data2, ftarget=ftarget, verb_disp=0)\n",
    "print(f'Средняя норма разницы между полученным решением и точным по результатам 10 испытаний = {av_norm}')\n",
    "print(f'доверительный интервал = ({x_beg}, {x_end})')"
   ]
  },
  {
   "cell_type": "code",
   "execution_count": 33,
   "id": "d36fdac4",
   "metadata": {},
   "outputs": [
    {
     "name": "stdout",
     "output_type": "stream",
     "text": [
      "Средняя норма разницы между полученным решением и точным по результатам 10 испытаний = 2.848649729008332e-06\n",
      "доверительный интервал = (2.7428459612374174e-06, 2.9544534967792463e-06)\n"
     ]
    }
   ],
   "source": [
    "#__Вычисление средней нормы разницы между решениями и доверительных интервалов для N = 15 (пакетный град спуск)__\n",
    "\n",
    "av_norm, x_beg, x_end = average_norm_of_the_difference_between_solutions_and_confidence_intervals(10, \n",
    "                                                                                                  the_exact_solution_15,\n",
    "                                                                                                  batch_gradient_descent, \n",
    "                                                                                                  A_15, B_15, n_iterations=100000, \n",
    "                                                                                                  eta=0.08)\n",
    "print(f'Средняя норма разницы между полученным решением и точным по результатам 10 испытаний = {av_norm}')\n",
    "print(f'доверительный интервал = ({x_beg}, {x_end})')"
   ]
  },
  {
   "cell_type": "code",
   "execution_count": 34,
   "id": "99dbb1bd",
   "metadata": {},
   "outputs": [
    {
     "name": "stdout",
     "output_type": "stream",
     "text": [
      "Средняя норма разницы между полученным решением и точным по результатам 10 испытаний = 8.134448347491418\n",
      "доверительный интервал = (7.850660899327461, 8.418235795655375)\n"
     ]
    }
   ],
   "source": [
    "#__Вычисление средней нормы разницы между решениями и доверительных интервалов для N = 15 (минипакетный град спуск)__\n",
    "\n",
    "av_norm, x_beg, x_end = average_norm_of_the_difference_between_solutions_and_confidence_intervals(10, \n",
    "                                                                                                  the_exact_solution_15,\n",
    "                                                                                                  mini_batch_gradient_descent, \n",
    "                                                                                                  A_15, B_15, n_iterations=1000000)\n",
    "print(f'Средняя норма разницы между полученным решением и точным по результатам 10 испытаний = {av_norm}')\n",
    "print(f'доверительный интервал = ({x_beg}, {x_end})')"
   ]
  }
 ],
 "metadata": {
  "kernelspec": {
   "display_name": "Python 3 (ipykernel)",
   "language": "python",
   "name": "python3"
  },
  "language_info": {
   "codemirror_mode": {
    "name": "ipython",
    "version": 3
   },
   "file_extension": ".py",
   "mimetype": "text/x-python",
   "name": "python",
   "nbconvert_exporter": "python",
   "pygments_lexer": "ipython3",
   "version": "3.10.6"
  }
 },
 "nbformat": 4,
 "nbformat_minor": 5
}
