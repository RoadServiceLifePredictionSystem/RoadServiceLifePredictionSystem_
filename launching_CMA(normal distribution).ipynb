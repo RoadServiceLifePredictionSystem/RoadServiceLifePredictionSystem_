{
 "cells": [
  {
   "cell_type": "code",
   "execution_count": 1,
   "id": "8bd1dc5f",
   "metadata": {},
   "outputs": [],
   "source": [
    "from getting_accurate_solutions import *\n",
    "from random import normalvariate as random_normalvariate\n",
    "from auxiliary_functions_and_classes import PartialSum, partial_sum_function\n",
    "from CMA import ff, fmin\n",
    "\n",
    "\n",
    "#______________Решение плохообусловленных матриц с помощью CMA и нормального распределения_____________________\n",
    "sigma = 0.5\n",
    "ftarget = 1e-6"
   ]
  },
  {
   "cell_type": "code",
   "execution_count": 2,
   "id": "1b6b5d18",
   "metadata": {},
   "outputs": [
    {
     "name": "stdout",
     "output_type": "stream",
     "text": [
      "evals: ax-ratio max(std)   f-value\n",
      "    9:     1.0  4.5e-01  2844.9717493139783\n",
      "   18:     1.0  4.4e-01  2474.4698374357035\n",
      "  900:    14.9  2.5e-01  0.09111442669927036\n",
      " 1800:    87.9  4.0e-02  7.642979057951843e-06\n",
      " 1836:   101.5  3.0e-02  7.293529549272473e-07\n",
      "termination by {'ftarget': 1e-06}\n",
      "best f-value = 7.293529549272473e-07\n",
      "solution = [0.9935600653964859, 2.0011754834102793, 2.996468726934991, 4.004506902760994, 4.999016797126202, 6.005277189806058]\n",
      "The norm of the L2 difference vector(solution - the_exact_solution)= 0.01022017619838725\n"
     ]
    },
    {
     "data": {
      "text/plain": [
       "[[0.9935600653964859,\n",
       "  2.0011754834102793,\n",
       "  2.996468726934991,\n",
       "  4.004506902760994,\n",
       "  4.999016797126202,\n",
       "  6.005277189806058],\n",
       " <CMA.CMAES at 0x7f37df97b850>]"
      ]
     },
     "execution_count": 2,
     "metadata": {},
     "output_type": "execute_result"
    }
   ],
   "source": [
    "#_________________N=6______________________________\n",
    "N = 6\n",
    "x_0 = [random_normalvariate(0, 5.12/3) for i in range(N)]\n",
    "data1 = PartialSum(func_partial_sum=partial_sum_function, randn=random_normalvariate, N=1, list_args=(0, 1))\n",
    "\n",
    "fmin(ff.f_ploho_obuslovlennaya_matrica_6, x_0, sigma, exact_solution=the_exact_solution_6, \n",
    "     randn=data1, ftarget=ftarget)"
   ]
  },
  {
   "cell_type": "code",
   "execution_count": 3,
   "id": "b30ef7c4",
   "metadata": {},
   "outputs": [
    {
     "name": "stdout",
     "output_type": "stream",
     "text": [
      "evals: ax-ratio max(std)   f-value\n",
      "   10:     1.0  4.7e-01  33388.855290123574\n",
      "   20:     1.0  4.6e-01  31970.28377262051\n",
      " 1000:     4.6  1.9e+00  13.717301913241963\n",
      " 2000:    27.1  2.3e+00  1.228849574982517\n",
      " 3000:    70.8  4.7e-01  0.007800063136931132\n",
      " 3970:   125.5  5.0e-03  5.05124961299483e-07\n",
      "termination by {'ftarget': 1e-06}\n",
      "best f-value = 5.05124961299483e-07\n",
      "solution = [1.005686268118367, 1.995663985509063, 3.000667726910399, 4.002910544321161, 4.998788907710487, 5.995590057463358, 7.004771659109834, 8.002088311351917, 8.996898387761544, 9.996911337620736]\n",
      "The norm of the L2 difference vector(solution - the_exact_solution)= 0.011280729197531971\n"
     ]
    },
    {
     "data": {
      "text/plain": [
       "[[1.005686268118367,\n",
       "  1.995663985509063,\n",
       "  3.000667726910399,\n",
       "  4.002910544321161,\n",
       "  4.998788907710487,\n",
       "  5.995590057463358,\n",
       "  7.004771659109834,\n",
       "  8.002088311351917,\n",
       "  8.996898387761544,\n",
       "  9.996911337620736],\n",
       " <CMA.CMAES at 0x7f37df9794e0>]"
      ]
     },
     "execution_count": 3,
     "metadata": {},
     "output_type": "execute_result"
    }
   ],
   "source": [
    "#_________________N=10______________________________\n",
    "N = 10\n",
    "x_0 = [random_normalvariate(0, 5.12/3) for i in range(N)]\n",
    "data1 = PartialSum(func_partial_sum=partial_sum_function, randn=random_normalvariate, N=1, list_args=(0, 1))\n",
    "\n",
    "fmin(ff.f_ploho_obuslovlennaya_matrica_10, x_0, sigma, exact_solution=the_exact_solution_10, \n",
    "     randn=data1, ftarget=ftarget)"
   ]
  },
  {
   "cell_type": "code",
   "execution_count": 4,
   "id": "3078b07d",
   "metadata": {},
   "outputs": [
    {
     "name": "stdout",
     "output_type": "stream",
     "text": [
      "evals: ax-ratio max(std)   f-value\n",
      "   12:     1.0  4.8e-01  1574.8750693326015\n",
      "   24:     1.0  5.1e-01  766.4185709057836\n",
      " 1200:     3.8  5.7e-01  5.604433625031437\n",
      " 2400:     9.6  2.9e-01  0.6674149788765662\n",
      " 3600:    22.1  1.4e-01  0.030925943321259572\n",
      " 4800:    40.7  1.4e-02  0.00018579429848298378\n",
      " 5532:    50.0  1.9e-03  9.576762745913957e-07\n",
      "termination by {'ftarget': 1e-06}\n",
      "best f-value = 9.576762745913957e-07\n",
      "solution = [-2.055515000063257, 2.1341930416414328, -0.5351247854294531, 7.104979867306323, -1.1349315801968696, 2.277102018619865, 2.027281036898969, -2.397397903993259, 3.261342133274875, 1.2952591050852809, 4.690158814364573, -5.231798882772612, 4.974176866230426, 5.689494494892948, 1.2778044750362416]\n",
      "The norm of the L2 difference vector(solution - the_exact_solution)= 0.007033247048676971\n"
     ]
    },
    {
     "data": {
      "text/plain": [
       "[[-2.0553128300951697,\n",
       "  2.1344821422546003,\n",
       "  -0.5359606630962168,\n",
       "  7.106996668978856,\n",
       "  -1.135781394083952,\n",
       "  2.2765222565849976,\n",
       "  2.0277630835385314,\n",
       "  -2.3971260735565854,\n",
       "  3.2609246471922537,\n",
       "  1.2951269219599744,\n",
       "  4.690648109213763,\n",
       "  -5.2327584210314715,\n",
       "  4.9752262692821745,\n",
       "  5.6894641969425415,\n",
       "  1.2767680789897478],\n",
       " <CMA.CMAES at 0x7f380b1cee60>]"
      ]
     },
     "execution_count": 4,
     "metadata": {},
     "output_type": "execute_result"
    }
   ],
   "source": [
    "#_________________N=15______________________________\n",
    "N = 15\n",
    "x_0 = [random_normalvariate(0, 5.12/3) for i in range(N)]\n",
    "data1 = PartialSum(func_partial_sum=partial_sum_function, randn=random_normalvariate, N=1, list_args=(0, 1))\n",
    "\n",
    "fmin(ff.f_ploho_obuslovlennaya_matrica_15, x_0, sigma, exact_solution=the_exact_solution_15, \n",
    "     randn=data1, ftarget=ftarget)"
   ]
  }
 ],
 "metadata": {
  "kernelspec": {
   "display_name": "Python 3 (ipykernel)",
   "language": "python",
   "name": "python3"
  },
  "language_info": {
   "codemirror_mode": {
    "name": "ipython",
    "version": 3
   },
   "file_extension": ".py",
   "mimetype": "text/x-python",
   "name": "python",
   "nbconvert_exporter": "python",
   "pygments_lexer": "ipython3",
   "version": "3.10.6"
  }
 },
 "nbformat": 4,
 "nbformat_minor": 5
}

