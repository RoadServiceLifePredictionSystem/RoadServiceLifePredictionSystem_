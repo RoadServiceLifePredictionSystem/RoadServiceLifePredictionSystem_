{
 "cells": [
  {
   "cell_type": "code",
   "execution_count": 6,
   "id": "8c94a654",
   "metadata": {},
   "outputs": [],
   "source": [
    "import time\n",
    "from getting_accurate_solutions import *\n",
    "from random import normalvariate as random_normalvariate\n",
    "from auxiliary_functions_and_classes import minus\n",
    "from gradient_descent import batch_gradient_descent, mini_batch_gradient_descent\n",
    "\n",
    "\n",
    "#______________Решение плохообусловленных матриц с помощью пакетного градиентного спуска_____________________"
   ]
  },
  {
   "cell_type": "code",
   "execution_count": 9,
   "id": "810fc07c",
   "metadata": {},
   "outputs": [
    {
     "name": "stdout",
     "output_type": "stream",
     "text": [
      "Время работы алгоритма = 0.7138221263885498\n",
      "[[0.994842  ]\n",
      " [1.99638461]\n",
      " [3.02131396]\n",
      " [3.98624433]\n",
      " [5.00185892]\n",
      " [6.00095097]]\n"
     ]
    }
   ],
   "source": [
    "#______________________N=6________________________\n",
    "start = time.time()\n",
    "decision_6 = batch_gradient_descent(A_6, B_6, n_iterations=100000)\n",
    "print(f'Время работы алгоритма = {time.time() - start}')\n",
    "print(decision_6)"
   ]
  },
  {
   "cell_type": "code",
   "execution_count": 10,
   "id": "3eb7af5a",
   "metadata": {},
   "outputs": [
    {
     "name": "stdout",
     "output_type": "stream",
     "text": [
      "Разница между точным решением и полученным:\n",
      "[[-0.005157997489709798], [-0.003615387763604705], [0.021313955771058435], [-0.013755667978249342], [0.0018589160771638191], [0.0009509718595790417]]\n",
      "Норма L2 вектора разницы:\n",
      "0.02622096480649013\n"
     ]
    }
   ],
   "source": [
    "print('Разница между точным решением и полученным:')\n",
    "dec = minus(decision_6, the_exact_solution_6)\n",
    "print(dec)\n",
    "print('Норма L2 вектора разницы:')\n",
    "print(np.linalg.norm(list(map(lambda x: x[0], dec))))"
   ]
  },
  {
   "cell_type": "code",
   "execution_count": 7,
   "id": "45c76bd4",
   "metadata": {},
   "outputs": [
    {
     "name": "stdout",
     "output_type": "stream",
     "text": [
      "Время работы алгоритма = 0.8499324321746826\n",
      "[[1.00533727]\n",
      " [1.99543524]\n",
      " [3.00263675]\n",
      " [3.99918413]\n",
      " [4.99928936]\n",
      " [6.00219894]\n",
      " [6.99690649]\n",
      " [8.0022208 ]\n",
      " [9.000615  ]\n",
      " [9.996176  ]]\n"
     ]
    }
   ],
   "source": [
    "#______________________N=10________________________\n",
    "start = time.time()\n",
    "decision_10 = batch_gradient_descent(A_10, B_10, n_iterations=100000)\n",
    "print(f'Время работы алгоритма = {time.time() - start}')\n",
    "print(decision_10)"
   ]
  },
  {
   "cell_type": "code",
   "execution_count": 8,
   "id": "5ac90f80",
   "metadata": {},
   "outputs": [
    {
     "name": "stdout",
     "output_type": "stream",
     "text": [
      "Разница между точным решением и полученным:\n",
      "[[0.005337220261974807], [-0.0045647914511313115], [0.0026368281285042983], [-0.0008158824198605252], [-0.0007106419007065767], [0.0021989495150336325], [-0.0030934923433161288], [0.002220729309801328], [0.0006150383910341617], [-0.003823957494265784]]\n",
      "Норма L2 вектора разницы:\n",
      "0.009580418330434999\n"
     ]
    }
   ],
   "source": [
    "print('Разница между точным решением и полученным:')\n",
    "dec = minus(decision_10, the_exact_solution_10)\n",
    "print(dec)\n",
    "print('Норма L2 вектора разницы:')\n",
    "print(np.linalg.norm(list(map(lambda x: x[0], dec))))"
   ]
  },
  {
   "cell_type": "code",
   "execution_count": 14,
   "id": "061284d4",
   "metadata": {},
   "outputs": [
    {
     "name": "stdout",
     "output_type": "stream",
     "text": [
      "Время работы алгоритма = 1.064892292022705\n",
      "[[-2.05796126]\n",
      " [ 2.13787715]\n",
      " [-0.53860125]\n",
      " [ 7.10811724]\n",
      " [-1.13550817]\n",
      " [ 2.275691  ]\n",
      " [ 2.02779794]\n",
      " [-2.39673506]\n",
      " [ 3.26086406]\n",
      " [ 1.29521204]\n",
      " [ 4.68934379]\n",
      " [-5.23193452]\n",
      " [ 4.9747838 ]\n",
      " [ 5.69115874]\n",
      " [ 1.27686385]]\n"
     ]
    }
   ],
   "source": [
    "#______________________N=15________________________\n",
    "start = time.time()\n",
    "decision_15 = batch_gradient_descent(A_15, B_15, n_iterations=100000, eta=0.08)\n",
    "print(f'Время работы алгоритма = {time.time() - start}')\n",
    "print(decision_15)"
   ]
  },
  {
   "cell_type": "code",
   "execution_count": 15,
   "id": "cc585d8d",
   "metadata": {},
   "outputs": [
    {
     "name": "stdout",
     "output_type": "stream",
     "text": [
      "Разница между точным решением и полученным:\n",
      "[[7.87527812740052e-07], [-8.08184908773768e-07], [7.968019123394399e-07], [-7.148280785074235e-07], [5.425651345980498e-07], [-2.88798231107279e-07], [-1.2182770348090344e-08], [3.1292409552463596e-07], [-5.678636623152045e-07], [7.455858190841269e-07], [-8.35933678722256e-07], [8.514965168515687e-07], [-8.228922787623105e-07], [7.874586263056926e-07], [-7.736796703294857e-07]]\n",
      "Норма L2 вектора разницы:\n",
      "2.663289025597004e-06\n"
     ]
    }
   ],
   "source": [
    "print('Разница между точным решением и полученным:')\n",
    "dec = minus(decision_15, the_exact_solution_15)\n",
    "print(dec)\n",
    "print('Норма L2 вектора разницы:')\n",
    "print(np.linalg.norm(list(map(lambda x: x[0], dec))))"
   ]
  }
 ],
 "metadata": {
  "kernelspec": {
   "display_name": "Python 3 (ipykernel)",
   "language": "python",
   "name": "python3"
  },
  "language_info": {
   "codemirror_mode": {
    "name": "ipython",
    "version": 3
   },
   "file_extension": ".py",
   "mimetype": "text/x-python",
   "name": "python",
   "nbconvert_exporter": "python",
   "pygments_lexer": "ipython3",
   "version": "3.10.6"
  }
 },
 "nbformat": 4,
 "nbformat_minor": 5
}
