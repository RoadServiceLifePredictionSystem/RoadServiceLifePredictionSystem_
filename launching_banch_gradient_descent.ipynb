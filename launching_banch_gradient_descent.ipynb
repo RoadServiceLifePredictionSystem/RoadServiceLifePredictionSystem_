{
 "cells": [
  {
   "cell_type": "code",
   "execution_count": 16,
   "id": "059fe156",
   "metadata": {},
   "outputs": [],
   "source": [
    "import time\n",
    "from getting_accurate_solutions import *\n",
    "from random import normalvariate as random_normalvariate\n",
    "from auxiliary_functions_and_classes import minus\n",
    "from gradient_descent import batch_gradient_descent\n",
    "\n",
    "\n",
    "#______________Решение плохообусловленных матриц с помощью пакетного градиентного спуска_____________________"
   ]
  },
  {
   "cell_type": "code",
   "execution_count": 17,
   "id": "dc9670c3",
   "metadata": {},
   "outputs": [
    {
     "name": "stdout",
     "output_type": "stream",
     "text": [
      "Время работы алгоритма = 0.7025952339172363\n",
      "[[1.00497927]\n",
      " [2.00347525]\n",
      " [2.97946296]\n",
      " [4.01324892]\n",
      " [4.99821179]\n",
      " [5.9990852 ]]\n"
     ]
    }
   ],
   "source": [
    "#______________________N=6________________________\n",
    "start = time.time()\n",
    "decision_6 = batch_gradient_descent(A_6, B_6, n_iterations=100000)\n",
    "print(f'Время работы алгоритма = {time.time() - start}')\n",
    "print(decision_6)"
   ]
  },
  {
   "cell_type": "code",
   "execution_count": 18,
   "id": "b6edd8be",
   "metadata": {},
   "outputs": [
    {
     "name": "stdout",
     "output_type": "stream",
     "text": [
      "Разница между точным решением и полученным:\n",
      "[[0.0049792676515221235], [0.0034752451080537483], [-0.020537038023014098], [0.013248921942054181], [-0.0017882076941795333], [-0.0009147970852581011]]\n",
      "Норма L2 вектора разницы:\n",
      "0.025262795545161608\n"
     ]
    }
   ],
   "source": [
    "print('Разница между точным решением и полученным:')\n",
    "dec = minus(decision_6, the_exact_solution_6)\n",
    "print(dec)\n",
    "print('Норма L2 вектора разницы:')\n",
    "print(np.linalg.norm(list(map(lambda x: x[0], dec))))"
   ]
  },
  {
   "cell_type": "code",
   "execution_count": 19,
   "id": "7dae16a1",
   "metadata": {},
   "outputs": [
    {
     "name": "stdout",
     "output_type": "stream",
     "text": [
      "Время работы алгоритма = 0.8553586006164551\n",
      "[[1.00769807]\n",
      " [1.99433085]\n",
      " [3.00215522]\n",
      " [4.00116537]\n",
      " [4.99696609]\n",
      " [6.00307625]\n",
      " [6.99852102]\n",
      " [7.99863887]\n",
      " [9.00469699]\n",
      " [9.99275128]]\n"
     ]
    }
   ],
   "source": [
    "#______________________N=10________________________\n",
    "start = time.time()\n",
    "decision_10 = batch_gradient_descent(A_10, B_10, n_iterations=100000)\n",
    "print(f'Время работы алгоритма = {time.time() - start}')\n",
    "print(decision_10)"
   ]
  },
  {
   "cell_type": "code",
   "execution_count": 20,
   "id": "cbd3b222",
   "metadata": {},
   "outputs": [
    {
     "name": "stdout",
     "output_type": "stream",
     "text": [
      "Разница между точным решением и полученным:\n",
      "[[0.007698026507565903], [-0.005669186992034225], [0.002155292074096593], [0.0011653573038943321], [-0.0030339182313925406], [0.003076256439679348], [-0.001478963880925832], [-0.0013612076482782953], [0.004697020026544152], [-0.007248675602077981]]\n",
      "Норма L2 вектора разницы:\n",
      "0.013954073379713088\n"
     ]
    }
   ],
   "source": [
    "print('Разница между точным решением и полученным:')\n",
    "dec = minus(decision_10, the_exact_solution_10)\n",
    "print(dec)\n",
    "print('Норма L2 вектора разницы:')\n",
    "print(np.linalg.norm(list(map(lambda x: x[0], dec))))"
   ]
  },
  {
   "cell_type": "code",
   "execution_count": 21,
   "id": "3fd62cae",
   "metadata": {},
   "outputs": [
    {
     "name": "stdout",
     "output_type": "stream",
     "text": [
      "Время работы алгоритма = 1.1126503944396973\n",
      "[[-2.05796161]\n",
      " [ 2.13787754]\n",
      " [-0.53860164]\n",
      " [ 7.10811761]\n",
      " [-1.13550849]\n",
      " [ 2.27569126]\n",
      " [ 2.02779774]\n",
      " [-2.39673491]\n",
      " [ 3.26086395]\n",
      " [ 1.2952121 ]\n",
      " [ 4.68934377]\n",
      " [-5.23193457]\n",
      " [ 4.97478393]\n",
      " [ 5.69115854]\n",
      " [ 1.27686414]]\n"
     ]
    }
   ],
   "source": [
    "#______________________N=15________________________\n",
    "start = time.time()\n",
    "decision_15 = batch_gradient_descent(A_15, B_15, n_iterations=100000, eta=0.08)\n",
    "print(f'Время работы алгоритма = {time.time() - start}')\n",
    "print(decision_15)"
   ]
  },
  {
   "cell_type": "code",
   "execution_count": 22,
   "id": "305bf008",
   "metadata": {},
   "outputs": [
    {
     "name": "stdout",
     "output_type": "stream",
     "text": [
      "Разница между точным решением и полученным:\n",
      "[[4.3648316072619764e-07], [-4.220432732182644e-07], [4.070729358041092e-07], [-3.503862737730401e-07], [2.2445611436161528e-07], [-2.7686142711758066e-08], [-2.1551215612092278e-07], [4.6413564858127643e-07], [-6.735986919359505e-07], [8.078393511912196e-07], [-8.488332179368285e-07], [8.024323978617076e-07], [-6.979517817029546e-07], [5.787750216867948e-07], [-4.851864552346541e-07]]\n",
      "Норма L2 вектора разницы:\n",
      "2.1209454875709263e-06\n"
     ]
    }
   ],
   "source": [
    "print('Разница между точным решением и полученным:')\n",
    "dec = minus(decision_15, the_exact_solution_15)\n",
    "print(dec)\n",
    "print('Норма L2 вектора разницы:')\n",
    "print(np.linalg.norm(list(map(lambda x: x[0], dec))))"
   ]
  }
 ],
 "metadata": {
  "kernelspec": {
   "display_name": "Python 3 (ipykernel)",
   "language": "python",
   "name": "python3"
  },
  "language_info": {
   "codemirror_mode": {
    "name": "ipython",
    "version": 3
   },
   "file_extension": ".py",
   "mimetype": "text/x-python",
   "name": "python",
   "nbconvert_exporter": "python",
   "pygments_lexer": "ipython3",
   "version": "3.10.6"
  }
 },
 "nbformat": 4,
 "nbformat_minor": 5
}
