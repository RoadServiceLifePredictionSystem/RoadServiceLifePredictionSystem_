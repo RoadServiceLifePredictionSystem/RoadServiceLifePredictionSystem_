{
 "cells": [
  {
   "cell_type": "code",
   "execution_count": 1,
   "id": "640916b0",
   "metadata": {},
   "outputs": [],
   "source": [
    "import time\n",
    "from getting_accurate_solutions import *\n",
    "from random import normalvariate as random_normalvariate\n",
    "from auxiliary_functions_and_classes import minus\n",
    "from gradient_descent import mini_batch_gradient_descent\n",
    "\n",
    "\n",
    "#______________Решение плохообусловленных матриц с помощью минипакетного градиентного спуска_____________________"
   ]
  },
  {
   "cell_type": "code",
   "execution_count": 3,
   "id": "c7814f36",
   "metadata": {},
   "outputs": [
    {
     "name": "stdout",
     "output_type": "stream",
     "text": [
      "time = 17.286607265472412\n",
      "[[3.7614379 ]\n",
      " [1.59426132]\n",
      " [1.74943713]\n",
      " [3.83276371]\n",
      " [4.96712916]\n",
      " [4.98046457]]\n"
     ]
    }
   ],
   "source": [
    "#____________________N=6_______________________\n",
    "start = time.time()\n",
    "decision_6_mini = mini_batch_gradient_descent(A_6, B_6, n_iterations=1000000)\n",
    "print(f'time = {time.time() - start}')\n",
    "print(decision_6_mini)"
   ]
  },
  {
   "cell_type": "code",
   "execution_count": 4,
   "id": "53afe221",
   "metadata": {},
   "outputs": [
    {
     "name": "stdout",
     "output_type": "stream",
     "text": [
      "Разница между точным решением и полученным:\n",
      "[[2.7614379001043186], [-0.40573868458549156], [-1.250562869911969], [-0.16723629353233882], [-0.03287083506126187], [-1.0195354260678657]]\n",
      "Норма L2 вектора разницы:\n",
      "3.228400780972464\n"
     ]
    }
   ],
   "source": [
    "print('Разница между точным решением и полученным:')\n",
    "dec = minus(decision_6_mini, the_exact_solution_6)\n",
    "print(dec)\n",
    "print('Норма L2 вектора разницы:')\n",
    "print(np.linalg.norm(list(map(lambda x: x[0], dec))))"
   ]
  },
  {
   "cell_type": "code",
   "execution_count": 7,
   "id": "6469e031",
   "metadata": {},
   "outputs": [
    {
     "name": "stdout",
     "output_type": "stream",
     "text": [
      "time = 28.055749893188477\n",
      "[[4.56745596]\n",
      " [3.96343927]\n",
      " [4.30729584]\n",
      " [4.61000193]\n",
      " [4.46407088]\n",
      " [5.26548409]\n",
      " [6.6716075 ]\n",
      " [6.88856958]\n",
      " [7.30916499]\n",
      " [6.95291001]]\n"
     ]
    }
   ],
   "source": [
    "#____________________N=10_______________________\n",
    "start = time.time()\n",
    "decision_10_mini = mini_batch_gradient_descent(A_10, B_10, n_iterations=1000000)\n",
    "print(f'time = {time.time() - start}')\n",
    "print(decision_10_mini)"
   ]
  },
  {
   "cell_type": "code",
   "execution_count": 8,
   "id": "b014bc22",
   "metadata": {},
   "outputs": [
    {
     "name": "stdout",
     "output_type": "stream",
     "text": [
      "Разница между точным решением и полученным:\n",
      "[[3.5674559141061484], [1.9634392381403942], [1.3072959112366092], [0.6100019109726151], [-0.5359291254109113], [-0.7345159071507581], [-0.3283924856655682], [-1.1114304989737978], [-1.690834974523673], [-3.047089945973373]]\n",
      "Норма L2 вектора разницы:\n",
      "5.742516290427299\n"
     ]
    }
   ],
   "source": [
    "print('Разница между точным решением и полученным:')\n",
    "dec = minus(decision_10_mini, the_exact_solution_10)\n",
    "print(dec)\n",
    "print('Норма L2 вектора разницы:')\n",
    "print(np.linalg.norm(list(map(lambda x: x[0], dec))))"
   ]
  },
  {
   "cell_type": "code",
   "execution_count": 9,
   "id": "13818e8b",
   "metadata": {},
   "outputs": [
    {
     "name": "stdout",
     "output_type": "stream",
     "text": [
      "time = 35.49894881248474\n",
      "[[-0.74853991]\n",
      " [ 1.5835673 ]\n",
      " [ 1.27778342]\n",
      " [ 3.21337839]\n",
      " [ 1.20799949]\n",
      " [ 2.4760584 ]\n",
      " [ 0.77281548]\n",
      " [-1.01443205]\n",
      " [ 2.79645357]\n",
      " [ 1.24275519]\n",
      " [ 2.67136079]\n",
      " [-0.85915327]\n",
      " [ 2.6074647 ]\n",
      " [ 4.46486689]\n",
      " [ 1.68459089]]\n"
     ]
    }
   ],
   "source": [
    "#____________________N=15_______________________\n",
    "start = time.time()\n",
    "decision_15_mini = mini_batch_gradient_descent(A_15, B_15, n_iterations=1000000)\n",
    "print(f'time = {time.time() - start}')\n",
    "print(decision_15_mini)"
   ]
  },
  {
   "cell_type": "code",
   "execution_count": 10,
   "id": "7f0f146e",
   "metadata": {},
   "outputs": [
    {
     "name": "stdout",
     "output_type": "stream",
     "text": [
      "Разница между точным решением и полученным:\n",
      "[[1.30942213606181], [-0.5543106552079644], [1.8163854669690505], [-3.894739563701239], [2.343508195654313], [0.2003671059605816], [-1.2549824762849946], [1.3823033294081537], [-0.46441105090917834], [-0.05245609825496533], [-2.0179838359018594], [4.372782108153109], [-2.3673199193372847], [-1.2262910678088277], [0.40772626837529846]]\n",
      "Норма L2 вектора разницы:\n",
      "7.758489911334871\n"
     ]
    }
   ],
   "source": [
    "print('Разница между точным решением и полученным:')\n",
    "dec = minus(decision_15_mini, the_exact_solution_15)\n",
    "print(dec)\n",
    "print('Норма L2 вектора разницы:')\n",
    "print(np.linalg.norm(list(map(lambda x: x[0], dec))))"
   ]
  }
 ],
 "metadata": {
  "kernelspec": {
   "display_name": "Python 3 (ipykernel)",
   "language": "python",
   "name": "python3"
  },
  "language_info": {
   "codemirror_mode": {
    "name": "ipython",
    "version": 3
   },
   "file_extension": ".py",
   "mimetype": "text/x-python",
   "name": "python",
   "nbconvert_exporter": "python",
   "pygments_lexer": "ipython3",
   "version": "3.10.6"
  }
 },
 "nbformat": 4,
 "nbformat_minor": 5
}
