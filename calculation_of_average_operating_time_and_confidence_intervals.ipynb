{
 "cells": [
  {
   "cell_type": "code",
   "execution_count": 6,
   "id": "4e451dbc",
   "metadata": {},
   "outputs": [],
   "source": [
    "from getting_accurate_solutions import *\n",
    "from random import normalvariate as random_normalvariate\n",
    "from gradient_descent import batch_gradient_descent, mini_batch_gradient_descent\n",
    "from auxiliary_functions_and_classes import PartialSum, partial_sum_function, average_duration_of_operation_time_and_confidence_intervals\n",
    "from CMA import ff, fmin\n",
    "\n",
    "\n",
    "# Вычисление среднего времени работы и доверительных интервалов на разных алгоритмах и плохобусловленных матрицах\n",
    "# разных размерностей(N = 6, 10, 15)\n",
    "sigma = 0.5\n",
    "ftarget = 1e-6"
   ]
  },
  {
   "cell_type": "code",
   "execution_count": 20,
   "id": "9e9ea6c0",
   "metadata": {},
   "outputs": [
    {
     "name": "stdout",
     "output_type": "stream",
     "text": [
      "Среднее время по результатам 10 испытаний = 0.09186029434204102\n",
      "доверительный интервал = (0.08852493642994089, 0.09519565225414114)\n"
     ]
    }
   ],
   "source": [
    "#___________Вычисление среднего времени и доверительных интервалов для N = 6 (CMA - нормальное распределение)_______\n",
    "\n",
    "N = 6\n",
    "\n",
    "x_0 = [random_normalvariate(0, 5.12/3) for i in range(N)]\n",
    "data1 = PartialSum(func_partial_sum=partial_sum_function, randn=random_normalvariate, N=1, list_args=(0, 1))\n",
    "\n",
    "av_time, x_beg, x_end = average_duration_of_operation_time_and_confidence_intervals(10, fmin, ff.f_ploho_obuslovlennaya_matrica_6, \n",
    "                                                                                    x_0, sigma, exact_solution=the_exact_solution_6,\n",
    "                                                                                    randn=data1, ftarget=ftarget, verb_disp=0)\n",
    "print(f'Среднее время по результатам 10 испытаний = {av_time}')\n",
    "print(f'доверительный интервал = ({x_beg}, {x_end})')\n"
   ]
  },
  {
   "cell_type": "code",
   "execution_count": 21,
   "id": "906a6979",
   "metadata": {},
   "outputs": [
    {
     "name": "stdout",
     "output_type": "stream",
     "text": [
      "Среднее время по результатам 10 испытаний = 0.12345616817474366\n",
      "доверительный интервал = (0.118903723142855, 0.12800861320663232)\n"
     ]
    }
   ],
   "source": [
    "#___Вычисление среднего времени и доверительных интервалов для N = 6 (CMA - частичная сумма равнораспредел векторов)\n",
    "\n",
    "N = 6\n",
    "N1=3\n",
    "\n",
    "data2 = PartialSum(func_partial_sum=partial_sum_function, randn=np.random.uniform, N=N1, list_args=(-3, 3))\n",
    "x0_uniform = [partial_sum_function(-5.12/3, 5.12/3, N=N1, randn=np.random.uniform) for i in range(N)]\n",
    "\n",
    "av_time, x_beg, x_end = average_duration_of_operation_time_and_confidence_intervals(10, fmin, ff.f_ploho_obuslovlennaya_matrica_6, \n",
    "                                                                                    x0_uniform, sigma, \n",
    "                                                                                    exact_solution=the_exact_solution_6,\n",
    "                                                                                    randn=data2, ftarget=ftarget, verb_disp=0)\n",
    "print(f'Среднее время по результатам 10 испытаний = {av_time}')\n",
    "print(f'доверительный интервал = ({x_beg}, {x_end})')"
   ]
  },
  {
   "cell_type": "code",
   "execution_count": 9,
   "id": "36aa8eea",
   "metadata": {},
   "outputs": [
    {
     "name": "stdout",
     "output_type": "stream",
     "text": [
      "Среднее время по результатам 10 испытаний = 0.6455641984939575\n",
      "доверительный интервал = (0.6425077060576726, 0.6486206909302424)\n"
     ]
    }
   ],
   "source": [
    "#___________Вычисление среднего времени и доверительных интервалов для N = 6 (пакетный град спуск)______________\n",
    "av_time, x_beg, x_end = average_duration_of_operation_time_and_confidence_intervals(10, batch_gradient_descent, A_6, B_6, n_iterations=100000)\n",
    "print(f'Среднее время по результатам 10 испытаний = {av_time}')\n",
    "print(f'доверительный интервал = ({x_beg}, {x_end})')"
   ]
  },
  {
   "cell_type": "code",
   "execution_count": 10,
   "id": "d29f91d4",
   "metadata": {},
   "outputs": [
    {
     "name": "stdout",
     "output_type": "stream",
     "text": [
      "Среднее время по результатам 10 испытаний = 16.270060348510743\n",
      "доверительный интервал = (16.15871319793622, 16.381407499085267)\n"
     ]
    }
   ],
   "source": [
    "#___________Вычисление среднего времени и доверительных интервалов для N = 6 (минипакетный град спуск)______________\n",
    "\n",
    "av_time, x_beg, x_end = average_duration_of_operation_time_and_confidence_intervals(10, mini_batch_gradient_descent, A_6, B_6, n_iterations=1000000)\n",
    "print(f'Среднее время по результатам 10 испытаний = {av_time}')\n",
    "print(f'доверительный интервал = ({x_beg}, {x_end})')"
   ]
  },
  {
   "cell_type": "code",
   "execution_count": 22,
   "id": "6d3f5cf9",
   "metadata": {},
   "outputs": [
    {
     "name": "stdout",
     "output_type": "stream",
     "text": [
      "Среднее время по результатам 10 испытаний = 0.3891406774520874\n",
      "доверительный интервал = (0.37372571098714474, 0.4045556439170301)\n"
     ]
    }
   ],
   "source": [
    "#___________Вычисление среднего времени и доверительных интервалов для N = 10 (CMA - нормальное распределение)_______\n",
    "\n",
    "N = 10\n",
    "\n",
    "x_0 = [random_normalvariate(0, 5.12/3) for i in range(N)]\n",
    "data1 = PartialSum(func_partial_sum=partial_sum_function, randn=random_normalvariate, N=1, list_args=(0, 1))\n",
    "\n",
    "av_time, x_beg, x_end = average_duration_of_operation_time_and_confidence_intervals(10, fmin, ff.f_ploho_obuslovlennaya_matrica_10, \n",
    "                                                                                    x_0, sigma, exact_solution=the_exact_solution_10,\n",
    "                                                                                    randn=data1, ftarget=ftarget, verb_disp=0)\n",
    "print(f'Среднее время по результатам 10 испытаний = {av_time}')\n",
    "print(f'доверительный интервал = ({x_beg}, {x_end})')"
   ]
  },
  {
   "cell_type": "code",
   "execution_count": 23,
   "id": "9f8bff3e",
   "metadata": {},
   "outputs": [
    {
     "name": "stdout",
     "output_type": "stream",
     "text": [
      "Среднее время по результатам 10 испытаний = 0.5227068424224853\n",
      "доверительный интервал = (0.5064856301760512, 0.5389280546689195)\n"
     ]
    }
   ],
   "source": [
    "#___Вычисление среднего времени и доверительных интервалов для N = 10 (CMA - частичная сумма равнораспредел векторов)\n",
    "\n",
    "N = 10\n",
    "N1=3\n",
    "\n",
    "data2 = PartialSum(func_partial_sum=partial_sum_function, randn=np.random.uniform, N=N1, list_args=(-3, 3))\n",
    "x0_uniform = [partial_sum_function(-5.12/3, 5.12/3, N=N1, randn=np.random.uniform) for i in range(N)]\n",
    "\n",
    "av_time, x_beg, x_end = average_duration_of_operation_time_and_confidence_intervals(10, fmin, ff.f_ploho_obuslovlennaya_matrica_10, \n",
    "                                                                                    x0_uniform, sigma, \n",
    "                                                                                    exact_solution=the_exact_solution_10,\n",
    "                                                                                    randn=data2, ftarget=ftarget, verb_disp=0)\n",
    "print(f'Среднее время по результатам 10 испытаний = {av_time}')\n",
    "print(f'доверительный интервал = ({x_beg}, {x_end})')"
   ]
  },
  {
   "cell_type": "code",
   "execution_count": 13,
   "id": "16b50f72",
   "metadata": {},
   "outputs": [
    {
     "name": "stdout",
     "output_type": "stream",
     "text": [
      "Среднее время по результатам 10 испытаний = 0.8512911796569824\n",
      "доверительный интервал = (0.8287879231535891, 0.8737944361603758)\n"
     ]
    }
   ],
   "source": [
    "#___________Вычисление среднего времени и доверительных интервалов для N = 10 (пакетный град спуск)______________\n",
    "\n",
    "av_time, x_beg, x_end = average_duration_of_operation_time_and_confidence_intervals(10, batch_gradient_descent, A_10, B_10, n_iterations=100000)\n",
    "\n",
    "print(f'Среднее время по результатам 10 испытаний = {av_time}')\n",
    "print(f'доверительный интервал = ({x_beg}, {x_end})')"
   ]
  },
  {
   "cell_type": "code",
   "execution_count": 14,
   "id": "8d173809",
   "metadata": {},
   "outputs": [
    {
     "name": "stdout",
     "output_type": "stream",
     "text": [
      "Среднее время по результатам 10 испытаний = 26.439575362205506\n",
      "доверительный интервал = (26.314098131989812, 26.5650525924212)\n"
     ]
    }
   ],
   "source": [
    "#___________Вычисление среднего времени и доверительных интервалов для N = 10 (минипакетный град спуск)______________\n",
    "\n",
    "av_time, x_beg, x_end = average_duration_of_operation_time_and_confidence_intervals(10, mini_batch_gradient_descent, A_10, B_10, n_iterations=1000000)\n",
    "print(f'Среднее время по результатам 10 испытаний = {av_time}')\n",
    "print(f'доверительный интервал = ({x_beg}, {x_end})')"
   ]
  },
  {
   "cell_type": "code",
   "execution_count": 24,
   "id": "cd6b638d",
   "metadata": {},
   "outputs": [
    {
     "name": "stdout",
     "output_type": "stream",
     "text": [
      "Среднее время по результатам 10 испытаний = 1.1439046621322633\n",
      "доверительный интервал = (1.1138720619268494, 1.1739372623376771)\n"
     ]
    }
   ],
   "source": [
    "#___________Вычисление среднего времени и доверительных интервалов для N = 15 (CMA - нормальное распределение)_______\n",
    "\n",
    "N = 15\n",
    "\n",
    "x_0 = [random_normalvariate(0, 5.12/3) for i in range(N)]\n",
    "data1 = PartialSum(func_partial_sum=partial_sum_function, randn=random_normalvariate, N=1, list_args=(0, 1))\n",
    "\n",
    "av_time, x_beg, x_end = average_duration_of_operation_time_and_confidence_intervals(10, fmin, ff.f_ploho_obuslovlennaya_matrica_15, \n",
    "                                                                                    x_0, sigma, exact_solution=the_exact_solution_15,\n",
    "                                                                                    randn=data1, ftarget=ftarget, verb_disp=0)\n",
    "print(f'Среднее время по результатам 10 испытаний = {av_time}')\n",
    "print(f'доверительный интервал = ({x_beg}, {x_end})')"
   ]
  },
  {
   "cell_type": "code",
   "execution_count": 26,
   "id": "3703674d",
   "metadata": {},
   "outputs": [
    {
     "name": "stdout",
     "output_type": "stream",
     "text": [
      "Среднее время по результатам 10 испытаний = 1.439261269569397\n",
      "доверительный интервал = (1.4196401820742794, 1.4588823570645144)\n"
     ]
    }
   ],
   "source": [
    "#___Вычисление среднего времени и доверительных интервалов для N = 15 (CMA - частичная сумма равнораспредел векторов)\n",
    "\n",
    "N = 15\n",
    "N1=3\n",
    "\n",
    "data2 = PartialSum(func_partial_sum=partial_sum_function, randn=np.random.uniform, N=N1, list_args=(-3, 3))\n",
    "x0_uniform = [partial_sum_function(-5.12/3, 5.12/3, N=N1, randn=np.random.uniform) for i in range(N)]\n",
    "\n",
    "av_time, x_beg, x_end = average_duration_of_operation_time_and_confidence_intervals(10, fmin, ff.f_ploho_obuslovlennaya_matrica_15, \n",
    "                                                                                    x0_uniform, sigma, \n",
    "                                                                                    exact_solution=the_exact_solution_15,\n",
    "                                                                                    randn=data2, ftarget=ftarget, verb_disp=0)\n",
    "print(f'Среднее время по результатам 10 испытаний = {av_time}')\n",
    "print(f'доверительный интервал = ({x_beg}, {x_end})')"
   ]
  },
  {
   "cell_type": "code",
   "execution_count": 18,
   "id": "31fd9bab",
   "metadata": {},
   "outputs": [
    {
     "name": "stdout",
     "output_type": "stream",
     "text": [
      "Среднее время по результатам 10 испытаний = 1.0717915058135987\n",
      "доверительный интервал = (1.0634096868891392, 1.0801733247380583)\n"
     ]
    }
   ],
   "source": [
    "#___________Вычисление среднего времени и доверительных интервалов для N = 15 (пакетный град спуск)______________\n",
    "\n",
    "av_time, x_beg, x_end = average_duration_of_operation_time_and_confidence_intervals(10, batch_gradient_descent, A_15, B_15, n_iterations=100000, eta=0.08)\n",
    "print(f'Среднее время по результатам 10 испытаний = {av_time}')\n",
    "print(f'доверительный интервал = ({x_beg}, {x_end})')"
   ]
  },
  {
   "cell_type": "code",
   "execution_count": 19,
   "id": "f1826a7e",
   "metadata": {},
   "outputs": [
    {
     "name": "stdout",
     "output_type": "stream",
     "text": [
      "Среднее время по результатам 10 испытаний = 32.926696586608884\n",
      "доверительный интервал = (32.74056641415397, 33.1128267590638)\n"
     ]
    }
   ],
   "source": [
    "#___________Вычисление среднего времени и доверительных интервалов для N = 15 (минипакетный град спуск)___________\n",
    "\n",
    "av_time, x_beg, x_end = average_duration_of_operation_time_and_confidence_intervals(10, mini_batch_gradient_descent, A_15, B_15, n_iterations=1000000)\n",
    "print(f'Среднее время по результатам 10 испытаний = {av_time}')\n",
    "print(f'доверительный интервал = ({x_beg}, {x_end})')"
   ]
  },
  {
   "cell_type": "code",
   "execution_count": null,
   "id": "98b4a570",
   "metadata": {},
   "outputs": [],
   "source": []
  }
 ],
 "metadata": {
  "kernelspec": {
   "display_name": "Python 3 (ipykernel)",
   "language": "python",
   "name": "python3"
  },
  "language_info": {
   "codemirror_mode": {
    "name": "ipython",
    "version": 3
   },
   "file_extension": ".py",
   "mimetype": "text/x-python",
   "name": "python",
   "nbconvert_exporter": "python",
   "pygments_lexer": "ipython3",
   "version": "3.10.6"
  }
 },
 "nbformat": 4,
 "nbformat_minor": 5
}

