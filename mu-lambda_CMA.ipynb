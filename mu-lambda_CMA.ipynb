{
 "cells": [
  {
   "cell_type": "code",
   "execution_count": 1,
   "id": "69b3e171",
   "metadata": {},
   "outputs": [],
   "source": [
    "import random\n",
    "\n",
    "\n",
    "def mu_lambda_cmaes(N: int, m: int, M: int, xmean: list, stopfitness: float, stopeval: int, stopdif: float, f):\n",
    "    \"\"\"\n",
    "    Реализация модификации mu-lambda CMA\n",
    "    \n",
    "    @param N: int \n",
    "        Размерность задачи\n",
    "    @param m: int \n",
    "        Количество векторов, которые выбираются из поколения для генерации следующего.\n",
    "    @param M: int \n",
    "        Количество векторов, которые генерируются в одном поколении. \n",
    "    @param xmean: list \n",
    "        Начальный средний вектор \n",
    "    @param stopfitness: float\n",
    "        Целевое значение\n",
    "    @param ftarget: float\n",
    "        Целевое значение функции\n",
    "    @param mu: int \n",
    "        Количество векторов, которые выбираются из поколения для генерации следующего.\n",
    "    @param stopeval: int\n",
    "        Максимальное число вычислений значения f.\n",
    "    @param stopdif: float\n",
    "        Разница между последующими полученными значениями не больше stopdif.\n",
    "    @param f: callable\n",
    "        Функция, которую минимизируем. Она принимает на вход вектор x и возвращает скалярное значение\n",
    "    @return: tuple\n",
    "        (best_value, countiter), где\n",
    "        best_value - лучшее найденное решение\n",
    "        countiter - количество итераций, потребовавшееся для получения решения\n",
    "    \"\"\"\n",
    "    lmbda = M\n",
    "    sigma = 0.5\n",
    "    eta = []\n",
    "    for j in range(N):\n",
    "        eta.append(random.normalvariate(0, 1)) # нормально распрделённый вектор N(0, I)\n",
    "    eta = np.array(eta)\n",
    "    t = lmbda // m\n",
    "    kol = 0\n",
    "\n",
    "    flag = False\n",
    "    while (kol < stopeval and  f(xmean[0]) >= stopfitness and not flag):\n",
    "        x = []\n",
    "#         if lmbda % m != 0:\n",
    "#             t += 1 \n",
    "        for i in range(m):\n",
    "            for j in range(t):\n",
    "                x.append(xmean[i] + eta * sigma)\n",
    "        x.sort(key = f)  \n",
    "        if abs(f(x[0]) - f(xmean[0])) < stopdif:\n",
    "            flag = True\n",
    "        xmean = x[:m]  \n",
    "        kol += 1\n",
    "\n",
    "    return  xmean[0], kol"
   ]
  },
  {
   "cell_type": "code",
   "execution_count": null,
   "id": "26e89076",
   "metadata": {},
   "outputs": [],
   "source": []
  }
 ],
 "metadata": {
  "kernelspec": {
   "display_name": "Python 3 (ipykernel)",
   "language": "python",
   "name": "python3"
  },
  "language_info": {
   "codemirror_mode": {
    "name": "ipython",
    "version": 3
   },
   "file_extension": ".py",
   "mimetype": "text/x-python",
   "name": "python",
   "nbconvert_exporter": "python",
   "pygments_lexer": "ipython3",
   "version": "3.10.6"
  }
 },
 "nbformat": 4,
 "nbformat_minor": 5
}
